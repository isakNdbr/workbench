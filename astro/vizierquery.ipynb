{
 "cells": [
  {
   "cell_type": "markdown",
   "metadata": {},
   "source": [
    "# VizieR Queries"
   ]
  },
  {
   "cell_type": "code",
   "execution_count": 3,
   "metadata": {},
   "outputs": [],
   "source": [
    "from astroquery.vizier import Vizier\n",
    "import numpy as np\n",
    "import pandas as pd"
   ]
  },
  {
   "cell_type": "markdown",
   "metadata": {},
   "source": [
    "#### Cantat-Gaudin Catalog\n",
    "\n",
    "Data from <u>**Painting a portrait of the Galactic disc with its stellar clusters**</u> by Cantat-Gaudin et al, 2020.<a href= \"https://ui.adsabs.harvard.edu/abs/2020A%26A...640A...1C/abstract\" > [Link to the Paper]</a>\n",
    "\n",
    "The data is available in two different tables, one listing the cluster parameters, the other one listing the members of each cluster. By using `astroquery.vizier` we can query the VizieR data bank with ease and retrieve the tables we want to use. "
   ]
  },
  {
   "cell_type": "code",
   "execution_count": 8,
   "metadata": {},
   "outputs": [
    {
     "name": "stdout",
     "output_type": "stream",
     "text": [
      "CPU times: user 2.63 s, sys: 423 ms, total: 3.05 s\n",
      "Wall time: 15.3 s\n"
     ]
    },
    {
     "data": {
      "text/plain": [
       "TableList with 2 tables:\n",
       "\t'0:J/A+A/640/A1/table1' with 12 column(s) and 2017 row(s) \n",
       "\t'1:J/A+A/640/A1/nodup' with 10 column(s) and 234128 row(s) "
      ]
     },
     "execution_count": 8,
     "metadata": {},
     "output_type": "execute_result"
    }
   ],
   "source": [
    "%%time  \n",
    "# C A N T A T - G A U D I N \n",
    "# shows time spent bz the CPU processing the task, wall shows full elapsed time \n",
    "\n",
    "# Pulling the catalogs from the Virtual Observatory\n",
    "CATALOGUE = \"J/A+A/640/A1\"\n",
    "cols_cantat = ['Cluster', 'GaiaDR2','nbstars07', 'RA_ICRS', 'DE_ICRS', 'r50', 'pmRA', 'pmRA_', 'pmDE', 'plx', 'DistPc', 'AgeNN', 'AVNN', 'Gmag', 'BP-RP', 'proba', 'GLON', 'GLAT']\n",
    "data_cantat_vizier = Vizier(catalog= CATALOGUE, row_limit=-1, columns=cols_cantat).query_constraints()\n",
    "data_cantat_vizier"
   ]
  },
  {
   "cell_type": "code",
   "execution_count": null,
   "metadata": {},
   "outputs": [],
   "source": [
    "# Splitting the two lists, astropy tables\n",
    "cluster_cantat_list = data_cantat_vizier[0]\n",
    "member_cantat_list = data_cantat_vizier[1]\n",
    "\n",
    "# Converting to pandas DataFrames for easier handling \n",
    "clusters_cantat = cluster_cantat_list.to_pandas()\n",
    "members_cantat = member_cantat_list.to_pandas()"
   ]
  },
  {
   "cell_type": "markdown",
   "metadata": {},
   "source": [
    "### Gaia - Apogee Crossmatch"
   ]
  },
  {
   "cell_type": "code",
   "execution_count": 17,
   "metadata": {},
   "outputs": [],
   "source": [
    "def query_gaia(IDs, cols = None):\n",
    "    if cols is None:\n",
    "        cols = ['Source','RA_ICRS', 'DE_ICRS', 'e_RA_ICRS', 'e_DE_ICRS', 'Gmag', \n",
    "                'Plx', 'e_Plx', 'PM', 'pmRA', 'e_pmRA', 'pmDE', 'e_pmDE','RV', 'e_RV',\n",
    "                'RADEcor', 'RAPlxcor', 'DEPlxcor', 'RApmRAcor', 'RApmDEcor', 'PlxpmRAcor', 'DEpmRAcor', 'DEpmDEcor', 'PlxpmDEcor', 'pmRApmDEcor']\n",
    "    \n",
    "    CATALOGUE = 'I/355/gaiadr3'\n",
    "    data_vizier = Vizier(catalog= CATALOGUE, row_limit=-1, columns=cols).query_constraints(Source=IDs)\n",
    "    df_gaia = data_vizier[0].to_pandas()\n",
    "    print(data_vizier)\n",
    "    return df_gaia\n",
    "\n",
    "def query_apogee(IDS, cols = None):\n",
    "    if cols is None:\n",
    "        cols = ['APOGEE_ID', 'GaiaEDR3', 'RAJ2000', 'DEJ2000', 'RV', 'e_RV']\n",
    "    \n",
    "    CATALOGUE_APOGEE = 'III/286/catalog'\n",
    "    data_apogee = Vizier(catalog=CATALOGUE_APOGEE, columns=cols).query_constraints(GaiaEDR3=IDS)\n",
    "    df_apogee = data_apogee[0].to_pandas()\n",
    "    return df_apogee"
   ]
  },
  {
   "cell_type": "code",
   "execution_count": 18,
   "metadata": {},
   "outputs": [
    {
     "name": "stdout",
     "output_type": "stream",
     "text": [
      "TableList with 1 tables:\n",
      "\t'0:I/355/gaiadr3' with 25 column(s) and 320 row(s) \n"
     ]
    },
    {
     "data": {
      "text/plain": [
       "APOGEE      2\n",
       "GaiaEDR3    2\n",
       "RAJ2000     2\n",
       "DEJ2000     2\n",
       "RV          0\n",
       "e_RV        0\n",
       "dtype: int64"
      ]
     },
     "execution_count": 18,
     "metadata": {},
     "output_type": "execute_result"
    }
   ],
   "source": [
    "# Example: Collinder 135\n",
    "collinder135_sources = members_cantat.loc[members_cantat['Cluster'] == 'Collinder_135']\n",
    "IDS_collinder = collinder135_sources['GaiaDR2'].astype(str).tolist()\n",
    "\n",
    "df_gaia_mG = query_gaia(IDS_collinder)\n",
    "df_apogee_mG = query_apogee(IDS_collinder)\n",
    "df_apogee_mG.count()"
   ]
  }
 ],
 "metadata": {
  "kernelspec": {
   "display_name": ".sandvenv",
   "language": "python",
   "name": "python3"
  },
  "language_info": {
   "codemirror_mode": {
    "name": "ipython",
    "version": 3
   },
   "file_extension": ".py",
   "mimetype": "text/x-python",
   "name": "python",
   "nbconvert_exporter": "python",
   "pygments_lexer": "ipython3",
   "version": "3.12.4"
  }
 },
 "nbformat": 4,
 "nbformat_minor": 2
}

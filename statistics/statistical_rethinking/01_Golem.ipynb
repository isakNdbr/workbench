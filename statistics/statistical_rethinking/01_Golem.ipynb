{
 "cells": [
  {
   "cell_type": "markdown",
   "metadata": {},
   "source": [
    "# 01: The Golem of Prague\n",
    "\n",
    "**Golem** = clay robot in Jewish folklore, made from dust, fire and water. It comes to life when *emet* (*truth*) is inscribed on its brow, however it is lacking free will, so it only ever does what it is told. Its obedience brings danger, careless and inprecise instructions can turn a golem against its maker! \n",
    "Scientists also make golems, scientific models: brought to life by 'truth' (or a search thereof), and unable to think for themselves, only being able to follow laid out instructions. Their makers are forced to think about their instructions and their application, because if you do not understand the way the golem processes information, then you cannot interpret the golem's output.\n",
    "\n",
    "**Bayesian** = denotes a particular interpretation of probability. In modest terms, Bayesian inference counts the number of ways an event can happen according to our assumptions, things that happen more frequently are more plausible. \n",
    "\n",
    "**Frequentist** = the approach that requires all probabilities be defined by connection to countable events and their frequencies in very large samples. Frequentist uncertainty is defined on imaginary resampling of data, if we were to repeath the measurement many many times we would end up collecting a list of values that will have some pattern to it. This also means that only measurements can have a probability distribution, parameters and models cannot. \n",
    "\n",
    "**Information Criteria** = aim to let us compare models based upon future predictive accuraxy. "
   ]
  }
 ],
 "metadata": {
  "language_info": {
   "name": "python"
  }
 },
 "nbformat": 4,
 "nbformat_minor": 2
}

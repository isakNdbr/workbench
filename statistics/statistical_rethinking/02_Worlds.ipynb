{
 "cells": [
  {
   "cell_type": "markdown",
   "metadata": {},
   "source": [
    "# 02 Small Worlds and Large Worlds\n",
    "\n",
    "Designing a Bayesian Model benefits from a design loop of three steps:\n",
    "1. Data story: motivate the model by narrating how the data might arise\n",
    "2. Update: educate your model by feeding it the data\n",
    "3. Evaluate: all statistical models require supervision, leading possibly to model revision."
   ]
  },
  {
   "cell_type": "markdown",
   "metadata": {},
   "source": []
  }
 ],
 "metadata": {
  "language_info": {
   "name": "python"
  }
 },
 "nbformat": 4,
 "nbformat_minor": 2
}

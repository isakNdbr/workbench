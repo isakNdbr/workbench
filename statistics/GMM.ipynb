{
 "cells": [
  {
   "cell_type": "markdown",
   "metadata": {},
   "source": [
    "# Gaussian Mixture Models \n",
    "\n",
    "- **Q**: Why should I care about GMMs?\n",
    "- **A**: In real life we never have a pure sample of objects that, it is at least a superposition of the singal (inlier) population and of a background (outlier) population. This is fairly easy to model with GMM!\n",
    "\n"
   ]
  }
 ],
 "metadata": {
  "language_info": {
   "name": "python"
  }
 },
 "nbformat": 4,
 "nbformat_minor": 2
}
